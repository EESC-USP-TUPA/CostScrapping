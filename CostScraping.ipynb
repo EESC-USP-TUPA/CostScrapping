{
 "cells": [
  {
   "cell_type": "code",
   "execution_count": 1,
   "metadata": {
    "pycharm": {
     "name": "#%%\n"
    }
   },
   "outputs": [],
   "source": [
    "import numpy as np\n",
    "import pandas as pd\n",
    "import re\n",
    "\n",
    "from bs4 import BeautifulSoup\n",
    "from IPython.display import clear_output\n",
    "from time import sleep\n",
    "from urllib.request import urlopen, Request"
   ]
  },
  {
   "cell_type": "markdown",
   "metadata": {
    "pycharm": {
     "name": "#%% md\n"
    }
   },
   "source": [
    "### Web Scraping"
   ]
  },
  {
   "cell_type": "code",
   "execution_count": 10,
   "metadata": {
    "pycharm": {
     "name": "#%%\n"
    }
   },
   "outputs": [],
   "source": [
    "def decode_html(raw_html):\n",
    "    html = raw_html.decode('utf-8')\n",
    "    return ' '.join(html.split()).replace('> <', '><')\n",
    "\n",
    "\n",
    "# Make HTML request and decode it\n",
    "def prepare_soup(url):\n",
    "    headers = {\n",
    "        \"User-Agent\": \"Mozilla/5.0 (Windows NT 10.0; Win64; x64) \" \\\n",
    "                      \"AppleWebKit/537.36 (KHTML, like Gecko) \" \\\n",
    "                      \"Chrome/76.0.3809.100 Safari/537.36\"\n",
    "    }\n",
    "\n",
    "    req = Request(url, headers = headers)\n",
    "    response = urlopen(req)\n",
    "    html = response.read()\n",
    "    decoded_html = decode_html(html)\n",
    "\n",
    "    return BeautifulSoup(decoded_html, 'html.parser')"
   ]
  },
  {
   "cell_type": "code",
   "execution_count": 5,
   "metadata": {
    "pycharm": {
     "name": "#%%\n"
    }
   },
   "outputs": [],
   "source": [
    "# Get all important variables for a process\n",
    "def find_values(url):\n",
    "    soup = prepare_soup(url)\n",
    "    content = {}\n",
    "\n",
    "    # For each table cell\n",
    "    for item in soup.find_all('div', class_='form-group'):\n",
    "        if item.input is not None:\n",
    "            value = item.input.get('value')\n",
    "            \n",
    "        elif item.find('option', selected=\"selected\"):\n",
    "            value = item.find('option', selected=\"selected\").get_text()\n",
    "            \n",
    "        elif item.find('textarea'):\n",
    "            value = item.find('textarea').text\n",
    "            \n",
    "        else:\n",
    "            value = None\n",
    "\n",
    "        key = item.label.get_text()\n",
    "\n",
    "        # Append relevant info to dictionary\n",
    "        if value is not None and value != \"\":\n",
    "            content[key] =   value\n",
    "            content['url'] = url\n",
    "\n",
    "    return content"
   ]
  },
  {
   "cell_type": "code",
   "execution_count": 20,
   "metadata": {},
   "outputs": [],
   "source": [
    "\n",
    "def find_links(url, type):\n",
    "    \"\"\"\n",
    "    Items are divided into\n",
    "    Fasteners (each one is a Fastener)\n",
    "    Materials (each one is a Material)\n",
    "    ProcessMultipliers (each one is a Process Multiplier)\n",
    "    Processes (each one is a Process)\n",
    "    Tools (each one is a Tool)\n",
    "    \"\"\"\n",
    "    \n",
    "    # Remove plural from type and create basis URL\n",
    "    item_type = type[:-2] if type =='Processes' else type[:-1] \n",
    "    start = f'https://www.fsaeonline.com/cdsweb/cst/Edit{type}.aspx?CatalogVersion=2132&{item_type}ID='\n",
    "    end = '&Action=View'\n",
    "\n",
    "    soup = prepare_soup(url)\n",
    "\n",
    "    # Get all links\n",
    "    script = soup.find_all('script', type='text/javascript')[7]\n",
    "    actions = re.findall(\"actions: '(.+?)' }\", script.string)\n",
    "\n",
    "    return [f\"{start}{action}{end}\" for action in actions]"
   ]
  },
  {
   "cell_type": "code",
   "execution_count": 15,
   "metadata": {
    "pycharm": {
     "name": "#%%\n"
    }
   },
   "outputs": [],
   "source": [
    "# Does all the processing for each component / process type\n",
    "def get_data(type):\n",
    "    url = f\"https://www.fsaeonline.com/cst/Browse{type}.aspx\"\n",
    "    \n",
    "    links = find_links(url, type)\n",
    "    items = []\n",
    "\n",
    "    for link in links:    \n",
    "        item = find_values(link)\n",
    "        items.append(item)\n",
    "        sleep(10/1000)\n",
    "        clear_output(wait=True)\n",
    "        print(f'Loading {type}... {len(items)}/{len(links)}')\n",
    "    \n",
    "    print('End')\n",
    "    return pd.DataFrame(items)"
   ]
  },
  {
   "cell_type": "markdown",
   "metadata": {},
   "source": [
    "#### Process information for all types"
   ]
  },
  {
   "cell_type": "code",
   "execution_count": 23,
   "metadata": {
    "pycharm": {
     "name": "#%%\n"
    }
   },
   "outputs": [
    {
     "name": "stdout",
     "output_type": "stream",
     "text": [
      "Loading Tools... 10/10\n",
      "End\n"
     ]
    }
   ],
   "source": [
    "# Load all info\n",
    "components = [\"Fasteners\", \"Materials\", \"ProcessMultipliers\", \"Processes\", \"Tools\"]\n",
    "raw_data = {}\n",
    "\n",
    "for component in components:\n",
    "    raw_data[component] = get_data(component)"
   ]
  },
  {
   "cell_type": "markdown",
   "metadata": {},
   "source": [
    "#### Process information for specific item"
   ]
  },
  {
   "cell_type": "code",
   "execution_count": null,
   "metadata": {},
   "outputs": [],
   "source": [
    "fasteners_raw = get_data(\"Fasteners\")\n",
    "fasteners_raw.head()"
   ]
  },
  {
   "cell_type": "code",
   "execution_count": null,
   "metadata": {
    "pycharm": {
     "name": "#%%\n"
    }
   },
   "outputs": [],
   "source": [
    "materials_raw = get_data('Materials')\n",
    "materials_raw.head()"
   ]
  },
  {
   "cell_type": "code",
   "execution_count": null,
   "metadata": {
    "pycharm": {
     "name": "#%%\n"
    }
   },
   "outputs": [],
   "source": [
    "multipliers_raw = get_data('ProcessMultipliers')\n",
    "multipliers_raw.head()"
   ]
  },
  {
   "cell_type": "code",
   "execution_count": null,
   "metadata": {
    "pycharm": {
     "name": "#%%\n"
    }
   },
   "outputs": [],
   "source": [
    "processes_raw = get_data('Processes')\n",
    "processes_raw.head()"
   ]
  },
  {
   "cell_type": "code",
   "execution_count": 21,
   "metadata": {
    "pycharm": {
     "name": "#%%\n"
    }
   },
   "outputs": [
    {
     "name": "stdout",
     "output_type": "stream",
     "text": [
      "Loading Tools... 10/10\n",
      "End\n"
     ]
    },
    {
     "data": {
      "text/html": [
       "<div>\n",
       "<style scoped>\n",
       "    .dataframe tbody tr th:only-of-type {\n",
       "        vertical-align: middle;\n",
       "    }\n",
       "\n",
       "    .dataframe tbody tr th {\n",
       "        vertical-align: top;\n",
       "    }\n",
       "\n",
       "    .dataframe thead th {\n",
       "        text-align: right;\n",
       "    }\n",
       "</style>\n",
       "<table border=\"1\" class=\"dataframe\">\n",
       "  <thead>\n",
       "    <tr style=\"text-align: right;\">\n",
       "      <th></th>\n",
       "      <th>Title*</th>\n",
       "      <th>url</th>\n",
       "      <th>Process</th>\n",
       "      <th>Measurement Unit Code</th>\n",
       "      <th>Description</th>\n",
       "      <th>Cost</th>\n",
       "      <th>Internal Notes</th>\n",
       "    </tr>\n",
       "  </thead>\n",
       "  <tbody>\n",
       "    <tr>\n",
       "      <th>0</th>\n",
       "      <td>Brazing Fixture</td>\n",
       "      <td>https://www.fsaeonline.com/cdsweb/cst/EditTool...</td>\n",
       "      <td>Braze</td>\n",
       "      <td>point</td>\n",
       "      <td>Each point is a pickup or support point.</td>\n",
       "      <td>500.00</td>\n",
       "      <td>NaN</td>\n",
       "    </tr>\n",
       "    <tr>\n",
       "      <th>1</th>\n",
       "      <td>Die Casting - Die</td>\n",
       "      <td>https://www.fsaeonline.com/cdsweb/cst/EditTool...</td>\n",
       "      <td>Die Casting</td>\n",
       "      <td>die</td>\n",
       "      <td>Per die not die set. Minimum number of dies i...</td>\n",
       "      <td>10,000.00</td>\n",
       "      <td>NaN</td>\n",
       "    </tr>\n",
       "    <tr>\n",
       "      <th>2</th>\n",
       "      <td>Lamination - Flat Panel Tool</td>\n",
       "      <td>https://www.fsaeonline.com/cdsweb/cst/EditTool...</td>\n",
       "      <td>Lamination, Manual</td>\n",
       "      <td>m^2</td>\n",
       "      <td>Use surface area of tool that is used to form...</td>\n",
       "      <td>1,500.00</td>\n",
       "      <td>NaN</td>\n",
       "    </tr>\n",
       "    <tr>\n",
       "      <th>3</th>\n",
       "      <td>Lamination - Mold Tool</td>\n",
       "      <td>https://www.fsaeonline.com/cdsweb/cst/EditTool...</td>\n",
       "      <td>Lamination, Manual</td>\n",
       "      <td>m^2</td>\n",
       "      <td>Use surface area of tool that is used to form...</td>\n",
       "      <td>20,000.00</td>\n",
       "      <td>Replaces 3 tools: Aluminum Tool, Composite To...</td>\n",
       "    </tr>\n",
       "    <tr>\n",
       "      <th>4</th>\n",
       "      <td>Plastic injection molding - Die</td>\n",
       "      <td>https://www.fsaeonline.com/cdsweb/cst/EditTool...</td>\n",
       "      <td>Plastic injection molding</td>\n",
       "      <td>die</td>\n",
       "      <td>Per die not die set.</td>\n",
       "      <td>10,000.00</td>\n",
       "      <td>NaN</td>\n",
       "    </tr>\n",
       "  </tbody>\n",
       "</table>\n",
       "</div>"
      ],
      "text/plain": [
       "                            Title*  \\\n",
       "0                  Brazing Fixture   \n",
       "1                Die Casting - Die   \n",
       "2     Lamination - Flat Panel Tool   \n",
       "3           Lamination - Mold Tool   \n",
       "4  Plastic injection molding - Die   \n",
       "\n",
       "                                                 url  \\\n",
       "0  https://www.fsaeonline.com/cdsweb/cst/EditTool...   \n",
       "1  https://www.fsaeonline.com/cdsweb/cst/EditTool...   \n",
       "2  https://www.fsaeonline.com/cdsweb/cst/EditTool...   \n",
       "3  https://www.fsaeonline.com/cdsweb/cst/EditTool...   \n",
       "4  https://www.fsaeonline.com/cdsweb/cst/EditTool...   \n",
       "\n",
       "                     Process Measurement Unit Code  \\\n",
       "0                      Braze                 point   \n",
       "1                Die Casting                   die   \n",
       "2         Lamination, Manual                   m^2   \n",
       "3         Lamination, Manual                   m^2   \n",
       "4  Plastic injection molding                   die   \n",
       "\n",
       "                                         Description       Cost  \\\n",
       "0           Each point is a pickup or support point.     500.00   \n",
       "1   Per die not die set. Minimum number of dies i...  10,000.00   \n",
       "2   Use surface area of tool that is used to form...   1,500.00   \n",
       "3   Use surface area of tool that is used to form...  20,000.00   \n",
       "4                              Per die not die set.   10,000.00   \n",
       "\n",
       "                                      Internal Notes  \n",
       "0                                                NaN  \n",
       "1                                                NaN  \n",
       "2                                                NaN  \n",
       "3   Replaces 3 tools: Aluminum Tool, Composite To...  \n",
       "4                                                NaN  "
      ]
     },
     "execution_count": 21,
     "metadata": {},
     "output_type": "execute_result"
    }
   ],
   "source": [
    "tools_raw = get_data('Tools')\n",
    "tools_raw.head()"
   ]
  },
  {
   "cell_type": "markdown",
   "metadata": {
    "pycharm": {
     "name": "#%% md\n"
    }
   },
   "source": [
    "### Saving as csv"
   ]
  },
  {
   "cell_type": "code",
   "execution_count": 26,
   "metadata": {
    "pycharm": {
     "name": "#%%\n"
    }
   },
   "outputs": [],
   "source": [
    "# Generate all CSVs\n",
    "for name, info in raw_data.items():\n",
    "    info.to_csv(f\"{name}_raw.csv\", index=False)"
   ]
  },
  {
   "cell_type": "code",
   "execution_count": null,
   "metadata": {},
   "outputs": [],
   "source": [
    "# Generate CSV for specific type\n",
    "specific_type = fasteners_raw\n",
    "specific_type.to_csv(\"Fasteners_raw.csv\", index=False)"
   ]
  },
  {
   "cell_type": "markdown",
   "metadata": {
    "pycharm": {
     "name": "#%% md\n"
    }
   },
   "source": [
    "### Making prettier"
   ]
  },
  {
   "cell_type": "code",
   "execution_count": 28,
   "metadata": {
    "pycharm": {
     "name": "#%%\n"
    }
   },
   "outputs": [],
   "source": [
    "# fasteners_raw = pd.read_csv('fasteners_raw.csv')\n",
    "# materials_raw = pd.read_csv('materials_raw.csv')\n",
    "# multipliers_raw = pd.read_csv('multipliers_raw.csv')\n",
    "# processes_raw = pd.read_csv('processes_raw.csv')\n",
    "# tools_raw = pd.read_csv('tools_raw.csv')\n",
    "\n",
    "for name, info in raw_data.items():\n",
    "    raw_data[name] = pd.read_csv(f\"{name}_raw.csv\")"
   ]
  },
  {
   "cell_type": "code",
   "execution_count": 29,
   "metadata": {
    "pycharm": {
     "name": "#%%\n"
    }
   },
   "outputs": [],
   "source": [
    "dfs_raw = raw_data.values()\n",
    "dfs = []\n",
    "\n",
    "for df in dfs_raw:\n",
    "    # Update formulas\n",
    "    df = df.replace({np.nan: None, \"[Not Used]\": None})\n",
    "    dfs.append(df)\n",
    "    \n",
    "fasteners, materials, multipliers, processes, tools = dfs"
   ]
  },
  {
   "cell_type": "code",
   "execution_count": 30,
   "metadata": {
    "pycharm": {
     "name": "#%%\n"
    }
   },
   "outputs": [],
   "source": [
    "fasteners['Label 1'] = fasteners['Size 1 Label'] + '(' + fasteners['Measurement Unit 1 Code'] + ')'\n",
    "fasteners['Label 2'] = fasteners['Size 2 Label'] + '(' + fasteners['Measurement Unit 2 Code'] + ')'\n",
    "\n",
    "map_fasteners = {'Title*' : 'Fastener', 'url' : 'Link', '[C1]' : 'C1', '[C2]': 'C2', ' Cost Formula ': 'Cost Formula'}\n",
    "fasteners.rename(columns = map_fasteners, inplace = True)\n",
    "fasteners = fasteners[['Fastener', 'Label 1', 'Label 2', 'Cost Formula', 'C1', 'C2', 'Description', 'Link']]"
   ]
  },
  {
   "cell_type": "code",
   "execution_count": 31,
   "metadata": {
    "pycharm": {
     "name": "#%%\n"
    }
   },
   "outputs": [],
   "source": [
    "materials['Label 1'] = materials['Size 1 Label'] + '(' + materials['Measurement Unit 1 Code'] + ')'\n",
    "materials['Label 2'] = materials['Size 2 Label'] + '(' + materials['Measurement Unit 2 Code'] + ')'\n",
    "\n",
    "map_materials = {'Title*' : 'Material', 'url' : 'Link', '[C1]' : 'C1', '[C2]': 'C2', ' Cost Formula ': 'Cost Formula'}\n",
    "materials.rename(columns = map_materials, inplace = True)\n",
    "\n",
    "materials = materials[['Material', 'Label 1', 'Label 2', 'Cost Formula', 'C1', 'C2', 'Description', 'Supplier', \n",
    "                       'Category', 'Link']]"
   ]
  },
  {
   "cell_type": "code",
   "execution_count": 32,
   "metadata": {
    "pycharm": {
     "name": "#%%\n"
    }
   },
   "outputs": [],
   "source": [
    "map_multipliers = {'Multiplier Type*' : 'Type', 'url' : 'Link', 'Multiplier Title': 'Multiplier'}\n",
    "multipliers.rename(columns = map_multipliers, inplace = True)\n",
    "\n",
    "multipliers = multipliers[['Multiplier', 'Type', 'Multiplier Value', 'Description', 'Link']]"
   ]
  },
  {
   "cell_type": "code",
   "execution_count": 33,
   "metadata": {
    "pycharm": {
     "name": "#%%\n"
    }
   },
   "outputs": [],
   "source": [
    "map_processes = {'Title*' : 'Process', 'url' : 'Link', 'Measurement Unit 1 Code' : 'Unit'}\n",
    "processes.rename(columns = map_processes, inplace = True)\n",
    "\n",
    "processes = processes[['Process', 'Unit', 'Unit Cost', 'Category', 'Process Multiplier Type','ToolingRequired', \n",
    "                       'Near Net Shape', 'Description','Link']]"
   ]
  },
  {
   "cell_type": "code",
   "execution_count": 34,
   "metadata": {
    "pycharm": {
     "name": "#%%\n"
    }
   },
   "outputs": [],
   "source": [
    "map_tools = {'Title*' : 'Tool', 'url' : 'Link', 'Measurement Unit Code' : 'Unit'}\n",
    "tools.rename(columns = map_tools, inplace = True)\n",
    "\n",
    "tools = tools[['Tool', 'Process', 'Unit', 'Cost', 'Description', 'Link']]"
   ]
  },
  {
   "cell_type": "markdown",
   "metadata": {
    "pycharm": {
     "name": "#%% md\n"
    }
   },
   "source": [
    "### Final Result"
   ]
  },
  {
   "cell_type": "code",
   "execution_count": 35,
   "metadata": {
    "pycharm": {
     "name": "#%%\n"
    }
   },
   "outputs": [
    {
     "data": {
      "text/html": [
       "<div>\n",
       "<style scoped>\n",
       "    .dataframe tbody tr th:only-of-type {\n",
       "        vertical-align: middle;\n",
       "    }\n",
       "\n",
       "    .dataframe tbody tr th {\n",
       "        vertical-align: top;\n",
       "    }\n",
       "\n",
       "    .dataframe thead th {\n",
       "        text-align: right;\n",
       "    }\n",
       "</style>\n",
       "<table border=\"1\" class=\"dataframe\">\n",
       "  <thead>\n",
       "    <tr style=\"text-align: right;\">\n",
       "      <th></th>\n",
       "      <th>Fastener</th>\n",
       "      <th>Label 1</th>\n",
       "      <th>Label 2</th>\n",
       "      <th>Cost Formula</th>\n",
       "      <th>C1</th>\n",
       "      <th>C2</th>\n",
       "      <th>Description</th>\n",
       "      <th>Link</th>\n",
       "    </tr>\n",
       "  </thead>\n",
       "  <tbody>\n",
       "    <tr>\n",
       "      <th>0</th>\n",
       "      <td>Alcoa Camloc Fastener 1/4 turn</td>\n",
       "      <td>NaN</td>\n",
       "      <td>NaN</td>\n",
       "      <td>4.00</td>\n",
       "      <td>None</td>\n",
       "      <td>None</td>\n",
       "      <td>None</td>\n",
       "      <td>https://www.fsaeonline.com/cdsweb/cst/EditFast...</td>\n",
       "    </tr>\n",
       "    <tr>\n",
       "      <th>1</th>\n",
       "      <td>Bolt, Aluminum</td>\n",
       "      <td>diameter(mm)</td>\n",
       "      <td>length(mm)</td>\n",
       "      <td>[C1]/105154*Math.pow([Size1],2)*[Size2]*Math.s...</td>\n",
       "      <td>1.0</td>\n",
       "      <td>0.005</td>\n",
       "      <td>Strength 255 Mpa. Special varities included (...</td>\n",
       "      <td>https://www.fsaeonline.com/cdsweb/cst/EditFast...</td>\n",
       "    </tr>\n",
       "    <tr>\n",
       "      <th>2</th>\n",
       "      <td>Bolt, Grade 10.9 (SAE 8)</td>\n",
       "      <td>diameter(mm)</td>\n",
       "      <td>length(mm)</td>\n",
       "      <td>[C1]/105154*Math.pow([Size1],2)*[Size2]*Math.s...</td>\n",
       "      <td>1.0</td>\n",
       "      <td>0.004</td>\n",
       "      <td>Strength 1030 Mpa. Special varities included ...</td>\n",
       "      <td>https://www.fsaeonline.com/cdsweb/cst/EditFast...</td>\n",
       "    </tr>\n",
       "    <tr>\n",
       "      <th>3</th>\n",
       "      <td>Bolt, Grade 12.9</td>\n",
       "      <td>diameter(mm)</td>\n",
       "      <td>length(mm)</td>\n",
       "      <td>[C1]/105154*Math.pow([Size1],2)*[Size2]*Math.s...</td>\n",
       "      <td>1.25</td>\n",
       "      <td>0.005</td>\n",
       "      <td>Strength 1170 Mpa. Special varities included ...</td>\n",
       "      <td>https://www.fsaeonline.com/cdsweb/cst/EditFast...</td>\n",
       "    </tr>\n",
       "    <tr>\n",
       "      <th>4</th>\n",
       "      <td>Bolt, Grade 6.8 (SAE 3) and All Grades less th...</td>\n",
       "      <td>diameter(mm)</td>\n",
       "      <td>length(mm)</td>\n",
       "      <td>[C1]/105154*Math.pow([Size1],2)*[Size2]*Math.s...</td>\n",
       "      <td>0.6</td>\n",
       "      <td>0.0024</td>\n",
       "      <td>Strength 670 Mpa. Special varities included (...</td>\n",
       "      <td>https://www.fsaeonline.com/cdsweb/cst/EditFast...</td>\n",
       "    </tr>\n",
       "  </tbody>\n",
       "</table>\n",
       "</div>"
      ],
      "text/plain": [
       "                                            Fastener       Label 1  \\\n",
       "0                     Alcoa Camloc Fastener 1/4 turn           NaN   \n",
       "1                                     Bolt, Aluminum  diameter(mm)   \n",
       "2                           Bolt, Grade 10.9 (SAE 8)  diameter(mm)   \n",
       "3                                   Bolt, Grade 12.9  diameter(mm)   \n",
       "4  Bolt, Grade 6.8 (SAE 3) and All Grades less th...  diameter(mm)   \n",
       "\n",
       "      Label 2                                       Cost Formula    C1  \\\n",
       "0         NaN                                               4.00  None   \n",
       "1  length(mm)  [C1]/105154*Math.pow([Size1],2)*[Size2]*Math.s...   1.0   \n",
       "2  length(mm)  [C1]/105154*Math.pow([Size1],2)*[Size2]*Math.s...   1.0   \n",
       "3  length(mm)  [C1]/105154*Math.pow([Size1],2)*[Size2]*Math.s...  1.25   \n",
       "4  length(mm)  [C1]/105154*Math.pow([Size1],2)*[Size2]*Math.s...   0.6   \n",
       "\n",
       "       C2                                        Description  \\\n",
       "0    None                                               None   \n",
       "1   0.005   Strength 255 Mpa. Special varities included (...   \n",
       "2   0.004   Strength 1030 Mpa. Special varities included ...   \n",
       "3   0.005   Strength 1170 Mpa. Special varities included ...   \n",
       "4  0.0024   Strength 670 Mpa. Special varities included (...   \n",
       "\n",
       "                                                Link  \n",
       "0  https://www.fsaeonline.com/cdsweb/cst/EditFast...  \n",
       "1  https://www.fsaeonline.com/cdsweb/cst/EditFast...  \n",
       "2  https://www.fsaeonline.com/cdsweb/cst/EditFast...  \n",
       "3  https://www.fsaeonline.com/cdsweb/cst/EditFast...  \n",
       "4  https://www.fsaeonline.com/cdsweb/cst/EditFast...  "
      ]
     },
     "execution_count": 35,
     "metadata": {},
     "output_type": "execute_result"
    }
   ],
   "source": [
    "fasteners.head()"
   ]
  },
  {
   "cell_type": "code",
   "execution_count": 36,
   "metadata": {
    "pycharm": {
     "name": "#%%\n"
    }
   },
   "outputs": [
    {
     "data": {
      "text/html": [
       "<div>\n",
       "<style scoped>\n",
       "    .dataframe tbody tr th:only-of-type {\n",
       "        vertical-align: middle;\n",
       "    }\n",
       "\n",
       "    .dataframe tbody tr th {\n",
       "        vertical-align: top;\n",
       "    }\n",
       "\n",
       "    .dataframe thead th {\n",
       "        text-align: right;\n",
       "    }\n",
       "</style>\n",
       "<table border=\"1\" class=\"dataframe\">\n",
       "  <thead>\n",
       "    <tr style=\"text-align: right;\">\n",
       "      <th></th>\n",
       "      <th>Material</th>\n",
       "      <th>Label 1</th>\n",
       "      <th>Label 2</th>\n",
       "      <th>Cost Formula</th>\n",
       "      <th>C1</th>\n",
       "      <th>C2</th>\n",
       "      <th>Description</th>\n",
       "      <th>Supplier</th>\n",
       "      <th>Category</th>\n",
       "      <th>Link</th>\n",
       "    </tr>\n",
       "  </thead>\n",
       "  <tbody>\n",
       "    <tr>\n",
       "      <th>0</th>\n",
       "      <td>90-Degree Coupler, Tilton 72-560</td>\n",
       "      <td>NaN</td>\n",
       "      <td>NaN</td>\n",
       "      <td>45</td>\n",
       "      <td>None</td>\n",
       "      <td>None</td>\n",
       "      <td>None</td>\n",
       "      <td>Tilton</td>\n",
       "      <td>Brake System</td>\n",
       "      <td>https://www.fsaeonline.com/cdsweb/cst/EditMate...</td>\n",
       "    </tr>\n",
       "    <tr>\n",
       "      <th>1</th>\n",
       "      <td>90-Degree Coupler, Tilton 72-561</td>\n",
       "      <td>NaN</td>\n",
       "      <td>NaN</td>\n",
       "      <td>47.5</td>\n",
       "      <td>None</td>\n",
       "      <td>None</td>\n",
       "      <td>None</td>\n",
       "      <td>Tilton</td>\n",
       "      <td>Brake System</td>\n",
       "      <td>https://www.fsaeonline.com/cdsweb/cst/EditMate...</td>\n",
       "    </tr>\n",
       "    <tr>\n",
       "      <th>2</th>\n",
       "      <td>90-Degree Coupler, Tilton 72-562</td>\n",
       "      <td>NaN</td>\n",
       "      <td>NaN</td>\n",
       "      <td>50</td>\n",
       "      <td>None</td>\n",
       "      <td>None</td>\n",
       "      <td>None</td>\n",
       "      <td>Tilton</td>\n",
       "      <td>Brake System</td>\n",
       "      <td>https://www.fsaeonline.com/cdsweb/cst/EditMate...</td>\n",
       "    </tr>\n",
       "    <tr>\n",
       "      <th>3</th>\n",
       "      <td>ABS Kit and ESP Module, Bosch, ESP-9</td>\n",
       "      <td>NaN</td>\n",
       "      <td>NaN</td>\n",
       "      <td>500</td>\n",
       "      <td>None</td>\n",
       "      <td>None</td>\n",
       "      <td>ESP-9 module only. Does not include wiring or...</td>\n",
       "      <td>Bosch</td>\n",
       "      <td>Brake System</td>\n",
       "      <td>https://www.fsaeonline.com/cdsweb/cst/EditMate...</td>\n",
       "    </tr>\n",
       "    <tr>\n",
       "      <th>4</th>\n",
       "      <td>Accusump</td>\n",
       "      <td>NaN</td>\n",
       "      <td>NaN</td>\n",
       "      <td>([C1]*[Size1]+[C2])</td>\n",
       "      <td>14.3</td>\n",
       "      <td>82.0</td>\n",
       "      <td>Gage not included, include as separate materi...</td>\n",
       "      <td>Canton Racing Products</td>\n",
       "      <td>Engine</td>\n",
       "      <td>https://www.fsaeonline.com/cdsweb/cst/EditMate...</td>\n",
       "    </tr>\n",
       "  </tbody>\n",
       "</table>\n",
       "</div>"
      ],
      "text/plain": [
       "                               Material Label 1 Label 2         Cost Formula  \\\n",
       "0      90-Degree Coupler, Tilton 72-560     NaN     NaN                   45   \n",
       "1      90-Degree Coupler, Tilton 72-561     NaN     NaN                 47.5   \n",
       "2      90-Degree Coupler, Tilton 72-562     NaN     NaN                   50   \n",
       "3  ABS Kit and ESP Module, Bosch, ESP-9     NaN     NaN                  500   \n",
       "4                              Accusump     NaN     NaN  ([C1]*[Size1]+[C2])   \n",
       "\n",
       "     C1    C2                                        Description  \\\n",
       "0  None  None                                               None   \n",
       "1  None  None                                               None   \n",
       "2  None  None                                               None   \n",
       "3  None  None   ESP-9 module only. Does not include wiring or...   \n",
       "4  14.3  82.0   Gage not included, include as separate materi...   \n",
       "\n",
       "                 Supplier      Category  \\\n",
       "0                  Tilton  Brake System   \n",
       "1                  Tilton  Brake System   \n",
       "2                  Tilton  Brake System   \n",
       "3                   Bosch  Brake System   \n",
       "4  Canton Racing Products        Engine   \n",
       "\n",
       "                                                Link  \n",
       "0  https://www.fsaeonline.com/cdsweb/cst/EditMate...  \n",
       "1  https://www.fsaeonline.com/cdsweb/cst/EditMate...  \n",
       "2  https://www.fsaeonline.com/cdsweb/cst/EditMate...  \n",
       "3  https://www.fsaeonline.com/cdsweb/cst/EditMate...  \n",
       "4  https://www.fsaeonline.com/cdsweb/cst/EditMate...  "
      ]
     },
     "execution_count": 36,
     "metadata": {},
     "output_type": "execute_result"
    }
   ],
   "source": [
    "materials.head()"
   ]
  },
  {
   "cell_type": "code",
   "execution_count": 37,
   "metadata": {
    "pycharm": {
     "name": "#%%\n"
    }
   },
   "outputs": [
    {
     "data": {
      "text/html": [
       "<div>\n",
       "<style scoped>\n",
       "    .dataframe tbody tr th:only-of-type {\n",
       "        vertical-align: middle;\n",
       "    }\n",
       "\n",
       "    .dataframe tbody tr th {\n",
       "        vertical-align: top;\n",
       "    }\n",
       "\n",
       "    .dataframe thead th {\n",
       "        text-align: right;\n",
       "    }\n",
       "</style>\n",
       "<table border=\"1\" class=\"dataframe\">\n",
       "  <thead>\n",
       "    <tr style=\"text-align: right;\">\n",
       "      <th></th>\n",
       "      <th>Multiplier</th>\n",
       "      <th>Type</th>\n",
       "      <th>Multiplier Value</th>\n",
       "      <th>Description</th>\n",
       "      <th>Link</th>\n",
       "    </tr>\n",
       "  </thead>\n",
       "  <tbody>\n",
       "    <tr>\n",
       "      <th>0</th>\n",
       "      <td>Assemble - Length &gt; 0.5m</td>\n",
       "      <td>Assembly</td>\n",
       "      <td>1.25</td>\n",
       "      <td>None</td>\n",
       "      <td>https://www.fsaeonline.com/cdsweb/cst/EditProc...</td>\n",
       "    </tr>\n",
       "    <tr>\n",
       "      <th>1</th>\n",
       "      <td>Disassemble</td>\n",
       "      <td>Assembly</td>\n",
       "      <td>0.8</td>\n",
       "      <td>To be used when removing parts or fasteners</td>\n",
       "      <td>https://www.fsaeonline.com/cdsweb/cst/EditProc...</td>\n",
       "    </tr>\n",
       "    <tr>\n",
       "      <th>2</th>\n",
       "      <td>Fastener Engagement Length &gt; 2D</td>\n",
       "      <td>Fastener Installation</td>\n",
       "      <td>1.25</td>\n",
       "      <td>None</td>\n",
       "      <td>https://www.fsaeonline.com/cdsweb/cst/EditProc...</td>\n",
       "    </tr>\n",
       "    <tr>\n",
       "      <th>3</th>\n",
       "      <td>Fastener Engagement Length &gt; 4D</td>\n",
       "      <td>Fastener Installation</td>\n",
       "      <td>1.5</td>\n",
       "      <td>None</td>\n",
       "      <td>https://www.fsaeonline.com/cdsweb/cst/EditProc...</td>\n",
       "    </tr>\n",
       "    <tr>\n",
       "      <th>4</th>\n",
       "      <td>Machine - Hole Length &gt;= 4D</td>\n",
       "      <td>Drill, Tap</td>\n",
       "      <td>1.5</td>\n",
       "      <td>None</td>\n",
       "      <td>https://www.fsaeonline.com/cdsweb/cst/EditProc...</td>\n",
       "    </tr>\n",
       "  </tbody>\n",
       "</table>\n",
       "</div>"
      ],
      "text/plain": [
       "                        Multiplier                   Type Multiplier Value  \\\n",
       "0         Assemble - Length > 0.5m               Assembly             1.25   \n",
       "1                      Disassemble               Assembly              0.8   \n",
       "2  Fastener Engagement Length > 2D  Fastener Installation             1.25   \n",
       "3  Fastener Engagement Length > 4D  Fastener Installation              1.5   \n",
       "4      Machine - Hole Length >= 4D             Drill, Tap              1.5   \n",
       "\n",
       "                                    Description  \\\n",
       "0                                          None   \n",
       "1   To be used when removing parts or fasteners   \n",
       "2                                          None   \n",
       "3                                          None   \n",
       "4                                          None   \n",
       "\n",
       "                                                Link  \n",
       "0  https://www.fsaeonline.com/cdsweb/cst/EditProc...  \n",
       "1  https://www.fsaeonline.com/cdsweb/cst/EditProc...  \n",
       "2  https://www.fsaeonline.com/cdsweb/cst/EditProc...  \n",
       "3  https://www.fsaeonline.com/cdsweb/cst/EditProc...  \n",
       "4  https://www.fsaeonline.com/cdsweb/cst/EditProc...  "
      ]
     },
     "execution_count": 37,
     "metadata": {},
     "output_type": "execute_result"
    }
   ],
   "source": [
    "multipliers.head()"
   ]
  },
  {
   "cell_type": "code",
   "execution_count": 228,
   "metadata": {
    "pycharm": {
     "name": "#%%\n"
    }
   },
   "outputs": [
    {
     "data": {
      "text/html": [
       "<div>\n",
       "<style scoped>\n",
       "    .dataframe tbody tr th:only-of-type {\n",
       "        vertical-align: middle;\n",
       "    }\n",
       "\n",
       "    .dataframe tbody tr th {\n",
       "        vertical-align: top;\n",
       "    }\n",
       "\n",
       "    .dataframe thead th {\n",
       "        text-align: right;\n",
       "    }\n",
       "</style>\n",
       "<table border=\"1\" class=\"dataframe\">\n",
       "  <thead>\n",
       "    <tr style=\"text-align: right;\">\n",
       "      <th></th>\n",
       "      <th>Process</th>\n",
       "      <th>Unit</th>\n",
       "      <th>Unit Cost</th>\n",
       "      <th>Category</th>\n",
       "      <th>Process Multiplier Type</th>\n",
       "      <th>ToolingRequired</th>\n",
       "      <th>Near Net Shape</th>\n",
       "      <th>Description</th>\n",
       "      <th>Link</th>\n",
       "    </tr>\n",
       "  </thead>\n",
       "  <tbody>\n",
       "    <tr>\n",
       "      <th>0</th>\n",
       "      <td>Adjustment - Misc.</td>\n",
       "      <td>unit</td>\n",
       "      <td>5.00</td>\n",
       "      <td>Labor</td>\n",
       "      <td>None</td>\n",
       "      <td>No</td>\n",
       "      <td>No</td>\n",
       "      <td>Chain tension, etc.</td>\n",
       "      <td>https://www.fsaeonline.com/cdsweb/cst/EditProc...</td>\n",
       "    </tr>\n",
       "    <tr>\n",
       "      <th>1</th>\n",
       "      <td>Aerosol Apply</td>\n",
       "      <td>m^2</td>\n",
       "      <td>5.25</td>\n",
       "      <td>Labor</td>\n",
       "      <td>None</td>\n",
       "      <td>No</td>\n",
       "      <td>No</td>\n",
       "      <td>For use with glue, adhesives, paint, etc. Inc...</td>\n",
       "      <td>https://www.fsaeonline.com/cdsweb/cst/EditProc...</td>\n",
       "    </tr>\n",
       "    <tr>\n",
       "      <th>2</th>\n",
       "      <td>Annodize</td>\n",
       "      <td>unit</td>\n",
       "      <td>0.00</td>\n",
       "      <td>Labor</td>\n",
       "      <td>None</td>\n",
       "      <td>No</td>\n",
       "      <td>No</td>\n",
       "      <td>It is not necessary to include any cost for a...</td>\n",
       "      <td>https://www.fsaeonline.com/cdsweb/cst/EditProc...</td>\n",
       "    </tr>\n",
       "    <tr>\n",
       "      <th>3</th>\n",
       "      <td>Anodizing</td>\n",
       "      <td>cm^2</td>\n",
       "      <td>0.00</td>\n",
       "      <td>None</td>\n",
       "      <td>None</td>\n",
       "      <td>No</td>\n",
       "      <td>None</td>\n",
       "      <td>None</td>\n",
       "      <td>https://www.fsaeonline.com/cdsweb/cst/EditProc...</td>\n",
       "    </tr>\n",
       "    <tr>\n",
       "      <th>4</th>\n",
       "      <td>Assemble, &gt;20 kg, Interference</td>\n",
       "      <td>unit</td>\n",
       "      <td>5.63</td>\n",
       "      <td>Labor</td>\n",
       "      <td>Assembly</td>\n",
       "      <td>No</td>\n",
       "      <td>No</td>\n",
       "      <td>None</td>\n",
       "      <td>https://www.fsaeonline.com/cdsweb/cst/EditProc...</td>\n",
       "    </tr>\n",
       "  </tbody>\n",
       "</table>\n",
       "</div>"
      ],
      "text/plain": [
       "                          Process  Unit  Unit Cost Category  \\\n",
       "0              Adjustment - Misc.  unit       5.00    Labor   \n",
       "1                   Aerosol Apply   m^2       5.25    Labor   \n",
       "2                        Annodize  unit       0.00    Labor   \n",
       "3                       Anodizing  cm^2       0.00     None   \n",
       "4  Assemble, >20 kg, Interference  unit       5.63    Labor   \n",
       "\n",
       "  Process Multiplier Type ToolingRequired Near Net Shape  \\\n",
       "0                    None              No             No   \n",
       "1                    None              No             No   \n",
       "2                    None              No             No   \n",
       "3                    None              No           None   \n",
       "4                Assembly              No             No   \n",
       "\n",
       "                                         Description  \\\n",
       "0                                Chain tension, etc.   \n",
       "1   For use with glue, adhesives, paint, etc. Inc...   \n",
       "2   It is not necessary to include any cost for a...   \n",
       "3                                               None   \n",
       "4                                               None   \n",
       "\n",
       "                                                Link  \n",
       "0  https://www.fsaeonline.com/cdsweb/cst/EditProc...  \n",
       "1  https://www.fsaeonline.com/cdsweb/cst/EditProc...  \n",
       "2  https://www.fsaeonline.com/cdsweb/cst/EditProc...  \n",
       "3  https://www.fsaeonline.com/cdsweb/cst/EditProc...  \n",
       "4  https://www.fsaeonline.com/cdsweb/cst/EditProc...  "
      ]
     },
     "execution_count": 228,
     "metadata": {},
     "output_type": "execute_result"
    }
   ],
   "source": [
    "processes.head()"
   ]
  },
  {
   "cell_type": "code",
   "execution_count": 229,
   "metadata": {
    "pycharm": {
     "name": "#%%\n"
    }
   },
   "outputs": [
    {
     "data": {
      "text/html": [
       "<div>\n",
       "<style scoped>\n",
       "    .dataframe tbody tr th:only-of-type {\n",
       "        vertical-align: middle;\n",
       "    }\n",
       "\n",
       "    .dataframe tbody tr th {\n",
       "        vertical-align: top;\n",
       "    }\n",
       "\n",
       "    .dataframe thead th {\n",
       "        text-align: right;\n",
       "    }\n",
       "</style>\n",
       "<table border=\"1\" class=\"dataframe\">\n",
       "  <thead>\n",
       "    <tr style=\"text-align: right;\">\n",
       "      <th></th>\n",
       "      <th>Tool</th>\n",
       "      <th>Process</th>\n",
       "      <th>Unit</th>\n",
       "      <th>Cost</th>\n",
       "      <th>Description</th>\n",
       "      <th>Link</th>\n",
       "    </tr>\n",
       "  </thead>\n",
       "  <tbody>\n",
       "    <tr>\n",
       "      <th>0</th>\n",
       "      <td>Brazing Fixture</td>\n",
       "      <td>Braze</td>\n",
       "      <td>point</td>\n",
       "      <td>500.00</td>\n",
       "      <td>Each point is a pickup or support point.</td>\n",
       "      <td>https://www.fsaeonline.com/cdsweb/cst/EditTool...</td>\n",
       "    </tr>\n",
       "    <tr>\n",
       "      <th>1</th>\n",
       "      <td>Die Casting - Die</td>\n",
       "      <td>Die Casting</td>\n",
       "      <td>die</td>\n",
       "      <td>10,000.00</td>\n",
       "      <td>Per die not die set. Minimum number of dies i...</td>\n",
       "      <td>https://www.fsaeonline.com/cdsweb/cst/EditTool...</td>\n",
       "    </tr>\n",
       "    <tr>\n",
       "      <th>2</th>\n",
       "      <td>Lamination - Flat Panel Tool</td>\n",
       "      <td>Lamination, Manual</td>\n",
       "      <td>m^2</td>\n",
       "      <td>1,500.00</td>\n",
       "      <td>Use surface area of tool that is used to form...</td>\n",
       "      <td>https://www.fsaeonline.com/cdsweb/cst/EditTool...</td>\n",
       "    </tr>\n",
       "    <tr>\n",
       "      <th>3</th>\n",
       "      <td>Lamination - Mold Tool</td>\n",
       "      <td>Lamination, Manual</td>\n",
       "      <td>m^2</td>\n",
       "      <td>20,000.00</td>\n",
       "      <td>Use surface area of tool that is used to form...</td>\n",
       "      <td>https://www.fsaeonline.com/cdsweb/cst/EditTool...</td>\n",
       "    </tr>\n",
       "    <tr>\n",
       "      <th>4</th>\n",
       "      <td>Plastic injection molding - Die</td>\n",
       "      <td>Plastic injection molding</td>\n",
       "      <td>die</td>\n",
       "      <td>10,000.00</td>\n",
       "      <td>Per die not die set.</td>\n",
       "      <td>https://www.fsaeonline.com/cdsweb/cst/EditTool...</td>\n",
       "    </tr>\n",
       "  </tbody>\n",
       "</table>\n",
       "</div>"
      ],
      "text/plain": [
       "                              Tool                    Process   Unit  \\\n",
       "0                  Brazing Fixture                      Braze  point   \n",
       "1                Die Casting - Die                Die Casting    die   \n",
       "2     Lamination - Flat Panel Tool         Lamination, Manual    m^2   \n",
       "3           Lamination - Mold Tool         Lamination, Manual    m^2   \n",
       "4  Plastic injection molding - Die  Plastic injection molding    die   \n",
       "\n",
       "        Cost                                        Description  \\\n",
       "0     500.00           Each point is a pickup or support point.   \n",
       "1  10,000.00   Per die not die set. Minimum number of dies i...   \n",
       "2   1,500.00   Use surface area of tool that is used to form...   \n",
       "3  20,000.00   Use surface area of tool that is used to form...   \n",
       "4  10,000.00                              Per die not die set.    \n",
       "\n",
       "                                                Link  \n",
       "0  https://www.fsaeonline.com/cdsweb/cst/EditTool...  \n",
       "1  https://www.fsaeonline.com/cdsweb/cst/EditTool...  \n",
       "2  https://www.fsaeonline.com/cdsweb/cst/EditTool...  \n",
       "3  https://www.fsaeonline.com/cdsweb/cst/EditTool...  \n",
       "4  https://www.fsaeonline.com/cdsweb/cst/EditTool...  "
      ]
     },
     "execution_count": 229,
     "metadata": {},
     "output_type": "execute_result"
    }
   ],
   "source": [
    "tools.head()"
   ]
  },
  {
   "cell_type": "markdown",
   "metadata": {
    "pycharm": {
     "name": "#%% md\n"
    }
   },
   "source": [
    "### Exporting as Excel Sheet"
   ]
  },
  {
   "cell_type": "code",
   "execution_count": 40,
   "metadata": {
    "pycharm": {
     "name": "#%%\n"
    }
   },
   "outputs": [],
   "source": [
    "with pd.ExcelWriter(\"CostCatalog.xlsx\") as writer:  \n",
    "    fasteners.to_excel(writer, sheet_name='Fasteners', index = False)\n",
    "    materials.to_excel(writer, sheet_name='Materials', index = False)\n",
    "    multipliers.to_excel(writer, sheet_name='Multipliers', index = False)\n",
    "    processes.to_excel(writer, sheet_name='Processes', index = False)\n",
    "    tools.to_excel(writer, sheet_name='Tools', index = False)"
   ]
  }
 ],
 "metadata": {
  "kernelspec": {
   "display_name": "Python 3",
   "language": "python",
   "name": "python3"
  },
  "language_info": {
   "codemirror_mode": {
    "name": "ipython",
    "version": 3
   },
   "file_extension": ".py",
   "mimetype": "text/x-python",
   "name": "python",
   "nbconvert_exporter": "python",
   "pygments_lexer": "ipython3",
   "version": "3.10.4"
  }
 },
 "nbformat": 4,
 "nbformat_minor": 4
}
